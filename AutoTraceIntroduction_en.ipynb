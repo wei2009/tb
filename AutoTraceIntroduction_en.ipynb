{
  "nbformat": 4,
  "nbformat_minor": 0,
  "metadata": {
    "colab": {
      "name": "AutoTraceIntroduction_en.ipynb",
      "provenance": [],
      "collapsed_sections": [],
      "toc_visible": true
    },
    "kernelspec": {
      "name": "python3",
      "display_name": "Python 3"
    },
    "accelerator": "GPU"
  },
  "cells": [
    {
      "cell_type": "markdown",
      "metadata": {
        "id": "tFapH7r7h4EO"
      },
      "source": [
        "# Welcome to colab's MMD Auto Trace! (Preparation)"
      ]
    },
    {
      "cell_type": "markdown",
      "metadata": {
        "id": "vgDngowWh8bc"
      },
      "source": [
        "With this notebook you can learn the following things:\n",
        "\n",
        " - What is colab (Google Colaboratory)\n",
        " - How to use colab\n",
        " - If an error occurs\n",
        " - Notes\n",
        " - License"
      ]
    },
    {
      "cell_type": "markdown",
      "metadata": {
        "id": "VAfr9Lx-alcW"
      },
      "source": [
        ""
      ]
    },
    {
      "cell_type": "markdown",
      "metadata": {
        "id": "Atf--UGaiEAj"
      },
      "source": [
        "## What is colab (Google Colaboratory)"
      ]
    },
    {
      "cell_type": "markdown",
      "metadata": {
        "id": "nt6wtv5siOEj"
      },
      "source": [
        "\n",
        "> Google Colaboratory (abbreviation: colab) is a Jupyter notebook environment that runs entirely in the cloud. You do not need to set up and can use it for free.\n",
        "\n",
        "> Jupyter Notebook is a tool to execute programs created in a format called notebook and record the results while proceeding with data analysis.\n",
        "\n",
        "If you have Chrome or Firefox, you can run \"MMD Auto Trace\" on the Google cloud after all.\n",
        "The motion data file etc. of the execution result can be downloaded to your own local environment.\n",
        "\n",
        "There are a few habits in how to use it, so please practice with this introductory notebook before starting \"MMD Auto Trace\"."
      ]
    },
    {
      "cell_type": "markdown",
      "metadata": {
        "id": "-cl6P0V1jDze"
      },
      "source": [
        "# How to use colab"
      ]
    },
    {
      "cell_type": "markdown",
      "metadata": {
        "id": "v0k-zhnUjYR8"
      },
      "source": [
        "\\** Here, the operation method of Jupyter Notebook is also treated as \"How to use colab\". \n",
        "\n",
        "Therefore, it is not a part of the exact expression. please note that."
      ]
    },
    {
      "cell_type": "markdown",
      "metadata": {
        "id": "h-mK3nMeFMcb"
      },
      "source": [
        "## Execution of cell (program)"
      ]
    },
    {
      "cell_type": "markdown",
      "metadata": {
        "id": "3SLEmu5ujvZ5"
      },
      "source": [
        "colab can perform processing in units called \"cells\".\n",
        "\n",
        "Please put the cursor on the `[]` part of the light gray column described below.\n"
      ]
    },
    {
      "cell_type": "code",
      "metadata": {
        "id": "tfHWt-8dv9nU"
      },
      "source": [
        "!echo \"Hello MMD Auto Trace!\""
      ],
      "execution_count": null,
      "outputs": []
    },
    {
      "cell_type": "markdown",
      "metadata": {
        "id": "JrARkkuKkPpo"
      },
      "source": [
        "\n",
        "![セル1](https://drive.google.com/uc?export=view&id=1Iq65BhLYQAx8vBBgdfEsLO0VeOVMjJuS)\n",
        "\n",
        "When you move the cursor, you can see that the triangle play button is displayed.\n",
        "\n",
        "![セル2](https://drive.google.com/uc?export=view&id=1_542_9rRF48Fr9TkLlERrT-1JCLG6VLU)\n",
        "\n",
        "Clicking this triangle will execute the cell and process the code in it sequentially.\n",
        "\n",
        "\\** When you open the page and run it for the first time, you will be asked for permission to run the notebook.\n",
        "\n",
        "![確認ダイアログ](https://drive.google.com/uc?export=view&id=1zSvIWShvIcJZt0vmeKGLkf8rtPGnWjLj)\n",
        "\n",
        "If the runtime reset is checked, a confirmation dialog for runtime reset is displayed.\n",
        "\n",
        "**If you reset, all environment will be destroyed. If execution of the preparation section has been completed in the execution part, please uncheck.**\n",
        "\n",
        "![ランタイムのリセット](https://drive.google.com/uc?export=view&id=1gCt0cTNgybd0kPgyKociNJbziS9NkpcC)\n",
        "\n",
        "Now you can run the notebook cells (programs).\n",
        "\n",
        "![セル3](https://drive.google.com/uc?export=view&id=19c52CCO_fsT7Xp86ArhUjXtcdaojrBvj)\n",
        "\n",
        "If the dotted circle around the triangle is spinning, the cell is running or waiting to run.\n",
        "\n",
        "![タブ](https://drive.google.com/uc?export=view&id=1tW5V1O4z5Lftq-dLMn-7kB5lWCTrQ88i)\n",
        "\n",
        "If it is running, the browser tab icon is grayed out.\n",
        "\n",
        "![セル4](https://drive.google.com/uc?export=view&id=1PEcmTlmw_Y4PWWBVFsv7OHJS9_d9GEIr)\n",
        "\n",
        "The execution result is output below the cell.\n",
        "\n",
        "With just this, the program runs."
      ]
    },
    {
      "cell_type": "markdown",
      "metadata": {
        "id": "tw2ZrQyoFR-s"
      },
      "source": [
        "## Cooperation with Google Drive (read)"
      ]
    },
    {
      "cell_type": "markdown",
      "metadata": {
        "id": "7uOqWO5KFVOv"
      },
      "source": [
        "\"MMD Auto Trace\" processes videos uploaded to Google Drive.\n",
        "\n",
        "Here, please check the link with Google Drive."
      ]
    },
    {
      "cell_type": "markdown",
      "metadata": {
        "id": "Uof2npq1IsQT"
      },
      "source": [
        "1．Create a folder named \"autotrace\" on Google Drive and upload a video file named \"input.mp4\".\n",
        "\n",
        "I had you provide material video for trace from Mr. Misoji-salaryman\\([@keriwaza](https://twitter.com/keriwaza)\\). Please DL freely and use it.\n",
        "\n",
        "[Foot slide scene animation(Google Drive)](https://drive.google.com/open?id=1kJrq3H8B_LrJDNfR4VA4BhfyrDnjBWvJ)\n",
        "\n",
        "**If you want to publish the video, please add \"` Motion: Mr. Misoji-salaryman (@keriwaza) `\" to the credit.**\n",
        "\n",
        "\n",
        "![アップロード](https://drive.google.com/uc?export=view&id=1o94cn9FqZsfDrO0MBq27-D0IA8zotlYa)\n",
        "\n",
        "2．When the cell below is executed, the URL and the input field are displayed.\n",
        "\n",
        "![Googleドライブ認証](https://drive.google.com/uc?export=view&id=1Mu3AencjMOHc3ZMBxqAaTpBFixb1FZvW)\n",
        "\n",
        "3．When you click on the URL, a new tab will open and ask for an account that works with colab.\n",
        "\n",
        "![アカウントの選択](https://drive.google.com/uc?export=view&id=1Smd0H-PkoQfanWq4YflH7yvvGYgDxPv8)\n",
        "\n",
        "4．If you select an account, a confirmation screen for permission of request appears. Please check the account and select \"Allow\".\n",
        "\n",
        "![代替テキスト](https://drive.google.com/uc?export=view&id=1Ynz2-J2tdXBG6mmooQuyDdoY0ygPlE99)\n",
        "\n",
        "5．If you allow it, a copy button will be displayed next to the authentication code. Click the copy button.\n",
        "\n",
        "![認証コード](https://drive.google.com/uc?export=view&id=1a1F5KnrccrKD8hWu7zZy6UruwG4e0Wrw)\n",
        "\n",
        "6．Return to the screen of colab, move the cursor to the input field below the URL, and paste it with \"Ctrl + V\". The text is displayed with ·.\n",
        "\n",
        "![認証コード貼り付け](https://drive.google.com/uc?export=view&id=1vmAeCeWzugW211K-uJ4evb9wCrqPnR_Q)\n",
        "\n",
        "7．After pasting, click Enter. Authentication takes some time.\n",
        "\n",
        "8．As shown below, it is successful if the contents of the folder and the file size can be acquired.\n",
        "\n",
        "![連携結果](https://drive.google.com/uc?export=view&id=1Vt0LTLLtghtosI4SIZ9jKuZBxgOntqSX)\n",
        "\n",
        "Let's try running the cell below."
      ]
    },
    {
      "cell_type": "code",
      "metadata": {
        "id": "z6Qdxi5CGQD3"
      },
      "source": [
        "from google.colab import drive\n",
        "import os\n",
        "\n",
        "# Googleドライブマウント\n",
        "drive.mount('/gdrive')\n",
        "\n",
        "# 起点ディレクトリ\n",
        "base_path = \"/gdrive/My Drive/autotrace\"\n",
        "\n",
        "! echo \"Contents of [autotrace] folder -----------\"\n",
        "! ls \"$base_path\"\n",
        "! echo \"--------------------\"\n",
        "\n",
        "# 入力動画ファイル\n",
        "input_video = base_path + \"/input.mp4\"\n",
        "\n",
        "print(\"File Name: \", os.path.basename(input_video))\n",
        "print(\"File Size: \", os.path.getsize(input_video))\n"
      ],
      "execution_count": null,
      "outputs": []
    },
    {
      "cell_type": "markdown",
      "metadata": {
        "id": "fndC3AcISU02"
      },
      "source": [
        "## Cooperation with Google Drive (output)"
      ]
    },
    {
      "cell_type": "markdown",
      "metadata": {
        "id": "3_gAjNdVSZJG"
      },
      "source": [
        "1．After reading successfully, try out the file output next time.\n",
        "\n",
        "2．Try running the cell below."
      ]
    },
    {
      "cell_type": "code",
      "metadata": {
        "id": "TMcUl9vmShcq"
      },
      "source": [
        "from google.colab import drive\n",
        "import os\n",
        "\n",
        "# Googleドライブマウント\n",
        "drive.mount('/gdrive')\n",
        "\n",
        "# 起点ディレクトリ\n",
        "base_path = \"/gdrive/My Drive/autotrace\"\n",
        "\n",
        "with open(base_path +'/output.txt', 'w') as f:\n",
        "  f.write('Google Drive Output success')\n",
        "\n",
        "! echo \"Contents of [autotrace] folder -----------\"\n",
        "! ls -l \"$base_path\"\n",
        "! echo \"--------------------\"\n",
        "\n",
        "! cat \"$base_path/output.txt\"\n"
      ],
      "execution_count": null,
      "outputs": []
    },
    {
      "cell_type": "markdown",
      "metadata": {
        "id": "s4TyEe9BTXkM"
      },
      "source": [
        "3．It is successful if it is output like the image below.\n",
        "\n",
        "![dirve output](https://drive.google.com/uc?export=view&id=1vnRfPtlcpn91KcwqDK03_6pPdap5hB54)\n",
        "\n",
        "4．If you check the \"autotrace\" folder on Google Drive, you should have a \"output.txt\" file.\n",
        "\n",
        "![Googleドライブ](https://drive.google.com/uc?export=view&id=1zeGvDGfJ8d6a8UamuCCBXQd735mqek_X)\n"
      ]
    },
    {
      "cell_type": "markdown",
      "metadata": {
        "id": "GEzYaF9ndNm_"
      },
      "source": [
        "**Important point**\n",
        "\n",
        "Data saved in Google Drive is only moved to the trash even if you execute \"delete\".\n",
        "\n",
        "Since this will not reduce the capacity of Google Drive, please execute \"Empty Garbage\" to reduce the capacity."
      ]
    },
    {
      "cell_type": "markdown",
      "metadata": {
        "id": "0r2HYz1wZLWy"
      },
      "source": [
        "## Runtime change"
      ]
    },
    {
      "cell_type": "markdown",
      "metadata": {
        "id": "FBlMHF4FZP80"
      },
      "source": [
        "\"MMD Auto Trace\" uses a GPU for processing.\n",
        "\n",
        "So You change colab's runtime to GPU.\n",
        "\n",
        "1．Click \"Runtime\" >  \"Change Runtime Type\" in the header\n",
        "\n",
        "![ランタイムの変更](https://drive.google.com/uc?export=view&id=1dw-X0dCBXArOFOcm37DFdjx1vfixY6wj)\n",
        "\n",
        "2．Select the second pull-down, select \"GPU\" and click \"Save\"\n",
        "\n",
        "\\**  If you get a dialog asking if you want to reset the runtime, please reset.\n",
        "\n",
        "![GPU](https://drive.google.com/uc?export=view&id=1GuQ7LI5J5fxgfa2IiNb0j95u5V5-IcjG)\n",
        "\n",
        "3．It will take some time to switch.\n",
        "\n",
        "4．If there is a green check in the Disk Space column to the right of the header, the switch is complete.\n",
        "\n",
        "![状態](https://drive.google.com/uc?export=view&id=1tPqFMFP8rZql2lQUl06NPtHGfLZ3CoDb)"
      ]
    },
    {
      "cell_type": "markdown",
      "metadata": {
        "id": "eocqSH2z9Y6o"
      },
      "source": [
        "# If an error occurs"
      ]
    },
    {
      "cell_type": "markdown",
      "metadata": {
        "id": "15IIIYPX9eGx"
      },
      "source": [
        "If you encounter problems when running colab, such as when an error occurs or files are not generated, please report using the following procedure.\n",
        "\n",
        "Perform steps 1 to 4 only for the execution version (AutoTrace_en.ipynb).\n",
        "\n",
        "---\n",
        "\n",
        "【Only in case of execution (AutoTrace_en.ipynb)】 From here ------\n",
        "\n",
        "1．Click \">\" on the top left of the screen. The table of contents opens.\n",
        "\n",
        "![目次](https://drive.google.com/uc?export=view&id=1x8AdFNmsIQPrtYptBf_NXPRNBJF8ON8z)\n",
        "\n",
        "2．Select the table of contents for \"If an error occurs\".\n",
        "\n",
        "3.　Run the cells one by one and see if you can not solve them yourself.\n",
        "\n",
        "4．If you still can not solve the problem, please do the following.\n",
        "\n",
        "【Only in case of execution (AutoTrace_en.ipynb)】 So far ------\n",
        "\n",
        "---\n",
        "\n",
        "5．Click on the header > \"Copy to Drive\"\n",
        "\n",
        "![ドライブにコピー](https://drive.google.com/uc?export=view&id=1IbZ0rrdWtNSYa6j6YHAu5g4fTzjm9ONt)\n",
        "\n",
        "6．\"Copy of ○○ .ipynb\" is made in \"My Drive> Colab Notebooks\" on Google Drive\n",
        "\n",
        "![Googleドライブ](https://drive.google.com/uc?export=view&id=10vUIv11hd-gvKWoBaXTnML55v3N1QS73)\n",
        "\n",
        "7．Right click on the copied file and select \"Share\".\n",
        "\n",
        "![共有](https://drive.google.com/uc?export=view&id=1EvhHPoHVTBn8dnyiQBZ8BWc1Qs2b00b4)\n",
        "\n",
        "8．After entering the following information, please click on the \"send\" button.\n",
        " - User：garnet200521358@gmail.com\n",
        " - Authority：Can View\n",
        " - Memo：What kind of operation was done\n",
        "\n",
        "※ I can not reply if it is sent without attaching a memo. I'm sorry.\n",
        "\n",
        "![共有設定](https://drive.google.com/uc?export=view&id=1FjdyR-f95YpuTGpAmS-CQjSNX3pVxJjK)\n",
        "\n",
        "9．Once sent, you will receive a shared email to me.\n",
        "\n",
        "10．The copy file also contains the result of the process you performed, so I will confirm it and reply.\n",
        "\n",
        "11．If you would like to consult without sharing, please contact me at Qiita."
      ]
    },
    {
      "cell_type": "markdown",
      "metadata": {
        "id": "EF4UQxGfbc1G"
      },
      "source": [
        "# Notes"
      ]
    },
    {
      "cell_type": "markdown",
      "metadata": {
        "id": "Um9JVs8RbfmT"
      },
      "source": [
        "colab is a disposable environment.\n",
        " \n",
        "Once created, the environment will be destroyed after 12 hours.\n",
        " \n",
        "In addition, it seems to be destroyed even if the state of non-operation continues for 90 minutes.\n",
        " \n",
        "If there is no data (No such file or directory) as a result of executing the cell of \"Confirmation of installation completion\" section of the execution, please start from the beginning of the execution.\n",
        "\n",
        "Cooperation with Google Drive also needs to be reconfigured.\n",
        "\n",
        "However, data saved in Google Drive does not disappear."
      ]
    },
    {
      "cell_type": "markdown",
      "metadata": {
        "id": "A0GTK-ACxFfB"
      },
      "source": [
        "# License"
      ]
    },
    {
      "cell_type": "markdown",
      "metadata": {
        "id": "krFuMErb1yKX"
      },
      "source": [
        "When publishing or distributing the results of \"MMD Auto Trace\", please be sure to confirm the license. I am very grateful if you can enter a license. The same is true for Unity.\n",
        "\n",
        "[MMD Auto Trace License(Japanese)](https://ch.nicovideo.jp/miu200521358/blomaga/ar1686913)"
      ]
    },
    {
      "cell_type": "markdown",
      "metadata": {
        "id": "GUkkCj5EUJw7"
      },
      "source": [
        "The introductory part is above. Thank you for your hard work.\n",
        "\n",
        "So, please enjoy the wonderful MMD life! Please try playing with Unity!"
      ]
    }
  ]
}